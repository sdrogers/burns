{
 "cells": [
  {
   "cell_type": "markdown",
   "metadata": {},
   "source": [
    "Burns both v smith both"
   ]
  },
  {
   "cell_type": "code",
   "execution_count": 24,
   "metadata": {
    "collapsed": true
   },
   "outputs": [],
   "source": [
    "import sys,glob\n",
    "sys.path.append('/Users/simon/git/burns/code/')"
   ]
  },
  {
   "cell_type": "code",
   "execution_count": 25,
   "metadata": {},
   "outputs": [
    {
     "name": "stdout",
     "output_type": "stream",
     "text": [
      "The autoreload extension is already loaded. To reload it, use:\n",
      "  %reload_ext autoreload\n"
     ]
    }
   ],
   "source": [
    "%load_ext autoreload\n",
    "%autoreload 2"
   ]
  },
  {
   "cell_type": "code",
   "execution_count": 26,
   "metadata": {
    "collapsed": true
   },
   "outputs": [],
   "source": [
    "data_dir = '/Users/simon/Dropbox/BioResearch/Meta_clustering/Burns/simon_test/'\n",
    "blank_mz_tol = 5\n",
    "mz_tol = 5"
   ]
  },
  {
   "cell_type": "code",
   "execution_count": 27,
   "metadata": {},
   "outputs": [
    {
     "name": "stdout",
     "output_type": "stream",
     "text": [
      "13 9\n",
      "('/Users/simon/Dropbox/BioResearch/Meta_clustering/Burns/simon_test/MSS1a.mzML', '/Users/simon/Dropbox/BioResearch/Meta_clustering/Burns/simon_test/MSS2a.mzML', '/Users/simon/Dropbox/BioResearch/Meta_clustering/Burns/simon_test/MSS3a.mzML', '/Users/simon/Dropbox/BioResearch/Meta_clustering/Burns/simon_test/MSS4a.mzML', '/Users/simon/Dropbox/BioResearch/Meta_clustering/Burns/simon_test/MSS5a.mzML', '/Users/simon/Dropbox/BioResearch/Meta_clustering/Burns/simon_test/MSS5a1.mzML', '/Users/simon/Dropbox/BioResearch/Meta_clustering/Burns/simon_test/MSS5a2.mzML', '/Users/simon/Dropbox/BioResearch/Meta_clustering/Burns/simon_test/MSS5a3.mzML', '/Users/simon/Dropbox/BioResearch/Meta_clustering/Burns/simon_test/MSS6a.mzML', '/Users/simon/Dropbox/BioResearch/Meta_clustering/Burns/simon_test/MSS13a.mzML', '/Users/simon/Dropbox/BioResearch/Meta_clustering/Burns/simon_test/MSS13a1.mzML', '/Users/simon/Dropbox/BioResearch/Meta_clustering/Burns/simon_test/MSS13a2.mzML', '/Users/simon/Dropbox/BioResearch/Meta_clustering/Burns/simon_test/MSS13a3.mzML')\n",
      "('/Users/simon/Dropbox/BioResearch/Meta_clustering/Burns/simon_test/MSS10a.mzML', '/Users/simon/Dropbox/BioResearch/Meta_clustering/Burns/simon_test/MSS11a.mzML', '/Users/simon/Dropbox/BioResearch/Meta_clustering/Burns/simon_test/MSS11a1.mzML', '/Users/simon/Dropbox/BioResearch/Meta_clustering/Burns/simon_test/MSS11a2.mzML', '/Users/simon/Dropbox/BioResearch/Meta_clustering/Burns/simon_test/MSS11a3.mzML', '/Users/simon/Dropbox/BioResearch/Meta_clustering/Burns/simon_test/MSS14a.mzML', '/Users/simon/Dropbox/BioResearch/Meta_clustering/Burns/simon_test/MSS14a1.mzML', '/Users/simon/Dropbox/BioResearch/Meta_clustering/Burns/simon_test/MSS14a2.mzML', '/Users/simon/Dropbox/BioResearch/Meta_clustering/Burns/simon_test/MSS14a3.mzML')\n",
      "['/Users/simon/Dropbox/BioResearch/Meta_clustering/Burns/simon_test/Blank_170509160722.mzML', '/Users/simon/Dropbox/BioResearch/Meta_clustering/Burns/simon_test/Blank_170509163024.mzML', '/Users/simon/Dropbox/BioResearch/Meta_clustering/Burns/simon_test/Blank_170509163257.mzML', '/Users/simon/Dropbox/BioResearch/Meta_clustering/Burns/simon_test/Blank_170509170513.mzML', '/Users/simon/Dropbox/BioResearch/Meta_clustering/Burns/simon_test/Blank_170509170746.mzML', '/Users/simon/Dropbox/BioResearch/Meta_clustering/Burns/simon_test/Blank_170509173047.mzML', '/Users/simon/Dropbox/BioResearch/Meta_clustering/Burns/simon_test/Blank_170509173322.mzML', '/Users/simon/Dropbox/BioResearch/Meta_clustering/Burns/simon_test/Blank_170601164510.mzML', '/Users/simon/Dropbox/BioResearch/Meta_clustering/Burns/simon_test/Blank_170601170305.mzML', '/Users/simon/Dropbox/BioResearch/Meta_clustering/Burns/simon_test/Blank_170601172100.mzML', '/Users/simon/Dropbox/BioResearch/Meta_clustering/Burns/simon_test/Blank_170601173852.mzML', '/Users/simon/Dropbox/BioResearch/Meta_clustering/Burns/simon_test/Blank_170601175639.mzML', '/Users/simon/Dropbox/BioResearch/Meta_clustering/Burns/simon_test/Blank_170601181435.mzML']\n"
     ]
    }
   ],
   "source": [
    "group1 = ['MSS1','MSS2','MSS3','MSS4','MSS5','MSS6','MSS13']\n",
    "group2 = ['MSS10','MSS11','MSS14']\n",
    "files1 = []\n",
    "files2 = []\n",
    "for g in group1:\n",
    "    pattern = data_dir + g + 'a' + '*.mzML'\n",
    "    matches = glob.glob(pattern)\n",
    "    for match in matches:\n",
    "        end_bit = match.split('/')[-1]\n",
    "        bfile = end_bit.split('a')\n",
    "        bfilename =  \"\".join(bfile[:-1]) + 'b' + bfile[-1]\n",
    "        files1.append((match,data_dir+bfilename))\n",
    "for g in group2:\n",
    "    pattern = data_dir + g + 'a' + '*.mzML'\n",
    "    matches = glob.glob(pattern)\n",
    "    for match in matches:\n",
    "        end_bit = match.split('/')[-1]\n",
    "        bfile = end_bit.split('a')\n",
    "        bfilename =  \"\".join(bfile[:-1]) + 'b' + bfile[-1]\n",
    "        files2.append((match,data_dir + bfilename))\n",
    "\n",
    "group1,paper1 = zip(*files1)\n",
    "group2,paper2 = zip(*files2)\n",
    "\n",
    "print len(group1),len(group2)\n",
    "print group1\n",
    "print group2\n",
    "papers = paper1+paper2\n",
    "\n",
    "\n",
    "blank_patterns = 'Blank_*'\n",
    "blank_files = glob.glob(data_dir + blank_patterns)\n",
    "print blank_files"
   ]
  },
  {
   "cell_type": "code",
   "execution_count": 28,
   "metadata": {
    "collapsed": true
   },
   "outputs": [],
   "source": [
    "group1 = group1 + paper1\n",
    "group2 = group2 + paper2"
   ]
  },
  {
   "cell_type": "code",
   "execution_count": 29,
   "metadata": {},
   "outputs": [],
   "source": [
    "from load_di import load_di\n",
    "\n",
    "# s = load_di(group1[0])\n",
    "import glob\n",
    "data = {}\n",
    "for f in files1+files2:\n",
    "    out_file = '../csv_files/' + f[0].split('/')[-1].split('.')[0]+'.csv'\n",
    "#     data[f[0]] = load_di(f[0],blank_file = f[1],out_file = out_file,normalise = None,mz_tol = blank_mz_tol)\n",
    "    data[f[0]] = load_di(f[0],out_file = out_file,normalise = None,mz_tol = blank_mz_tol)\n",
    "    data[f[1]] = load_di(f[1],out_file = out_file,normalise = None,mz_tol = blank_mz_tol)\n",
    "\n",
    "for b in blank_files:\n",
    "    out_file = '../csv_files/' + b.split('/')[-1].split('.')[0]+'.csv'\n",
    "    data[b] = load_di(b,out_file = out_file,normalise = None,mz_tol = blank_mz_tol)\n"
   ]
  },
  {
   "cell_type": "markdown",
   "metadata": {
    "collapsed": true
   },
   "source": [
    "Write out a csv file for processing"
   ]
  },
  {
   "cell_type": "code",
   "execution_count": 30,
   "metadata": {},
   "outputs": [
    {
     "name": "stdout",
     "output_type": "stream",
     "text": [
      "23555 peaks\n",
      "23555 peaks\n",
      "23555 peaks\n",
      "23555 peaks\n",
      "23555 peaks\n",
      "23555 peaks\n",
      "23555 peaks\n",
      "23555 peaks\n"
     ]
    }
   ],
   "source": [
    "from matching import Greedy\n",
    "import numpy as np\n",
    "from scipy.stats import ttest_ind\n",
    "for log in ['log','nolog']:\n",
    "    for missing in ['nan',1e-5]:\n",
    "        for normalise in ['none','tus']:\n",
    "            options = {'log':log,'missing':missing,'normalise':normalise}\n",
    "            n_tests = 0\n",
    "\n",
    "            if options['normalise'] == 'tus':\n",
    "                normalised_data = {}\n",
    "                for f,spec in data.items():\n",
    "                    mz_list,i_list = zip(*spec)\n",
    "                    tot_intensity = sum(i_list)\n",
    "                    new_intensity = [1000.0*i/tot_intensity for i in i_list]\n",
    "                    new_spec = zip(mz_list,new_intensity)\n",
    "                    normalised_data[f] = new_spec\n",
    "            elif options['normalise'] == 'none':\n",
    "                normalised_data = data\n",
    "            \n",
    "            g = Greedy()\n",
    "            mp = g.process(normalised_data,mz_tol)\n",
    "            \n",
    "            \n",
    "#             new_mp = []\n",
    "#             # remove peaksets that only appear in blanks\n",
    "#             for ps in mp:\n",
    "#                 for p in ps.peaks:\n",
    "#                     if p[2] in group1 or p[2] in group2:\n",
    "#                         found = True\n",
    "#                 if found:\n",
    "#                     new_mp.append(ps)\n",
    "            \n",
    "#             mp = new_mp\n",
    "            \n",
    "            display_names = {}\n",
    "            for g in group1+group2:\n",
    "                display_names[g] = g.split('/')[-1]\n",
    "            import csv\n",
    "            all_names = list(group1+group2)\n",
    "            res = []\n",
    "\n",
    "\n",
    "            heads = [\"mz\"] + [display_names[a] for a in all_names] + [\"n_blank\"] + [\"pval\"] +[\"qval\"]\n",
    "            for ps in mp:\n",
    "                row = [ps.mean_mz]\n",
    "                g1 = []\n",
    "                g2 = []\n",
    "                for n in all_names:\n",
    "                    peak = filter(lambda x: x[2] == n,ps.peaks)\n",
    "                    if len(peak) == 0:\n",
    "                        row.append(\"nan\")\n",
    "                    else:\n",
    "                        # take max intensity\n",
    "                        peak = sorted(peak,key = lambda x: x[1], reverse = True)\n",
    "                        row.append(peak[0][1])\n",
    "                    if n in group1:\n",
    "                        g1.append(row[-1])\n",
    "                    if n in group2:\n",
    "                        g2.append(row[-1])\n",
    "                        \n",
    "                ng1 = sum([1 for a in g1 if not a == \"nan\"])\n",
    "                ng2 = sum([1 for a in g2 if not a == \"nan\"])\n",
    "                if options['missing'] == 'nan':\n",
    "                    g1 = [a for a in g1 if not a == \"nan\"]\n",
    "                    g2 = [a for a in g2 if not a == \"nan\"]\n",
    "                else:\n",
    "                    g1 = [a if not a == \"nan\" else options[\"missing\"] for a in g1]\n",
    "                    g2 = [a if not a == \"nan\" else options[\"missing\"] for a in g2]\n",
    "                if options['log'] == 'log':\n",
    "                    g1 = [np.log10(a) for a in g1]\n",
    "                    g2 = [np.log10(a) for a in g2]\n",
    "                \n",
    "                \n",
    "                \n",
    "                if ng1 > 1 or ng2 > 1:\n",
    "                    t,p = ttest_ind(g1,g2,equal_var=True)\n",
    "                    n_tests += 1\n",
    "                else:\n",
    "                    p = 999\n",
    "                    \n",
    "                b_count = 0\n",
    "                for n in blank_files:\n",
    "                    peak = filter(lambda x: x[2] == n,ps.peaks)\n",
    "                    if len(peak) > 0:\n",
    "                        b_count += 1\n",
    "                \n",
    "                row.append(b_count)\n",
    "                \n",
    "                row.append(p)\n",
    "                res.append(row)\n",
    "            \n",
    "            res = sorted(res,key = lambda x: x[-1])\n",
    "            # compute q-value\n",
    "            for i,r in enumerate(res):\n",
    "                if r[-1] < 999:\n",
    "                    q = r[-1]*n_tests / (1.0*(i+1))\n",
    "                    r.append(q)\n",
    "                else:\n",
    "                    r.append(\"nan\")\n",
    "                    \n",
    "            \n",
    "\n",
    "            with open(\"spreadsheets/both_v_both/both_v_both_{}_{}_{}.csv\".format(options['log'],options['missing'],options['normalise']),'w') as f:\n",
    "                writer = csv.writer(f)\n",
    "                writer.writerow(heads)\n",
    "                for r in res:\n",
    "                    writer.writerow(r)"
   ]
  },
  {
   "cell_type": "code",
   "execution_count": 31,
   "metadata": {},
   "outputs": [
    {
     "name": "stdout",
     "output_type": "stream",
     "text": [
      "13\n"
     ]
    }
   ],
   "source": [
    "print len(blank_files)"
   ]
  },
  {
   "cell_type": "code",
   "execution_count": 32,
   "metadata": {
    "collapsed": true
   },
   "outputs": [],
   "source": [
    "mp = sorted(mp,key = lambda x: x.mean_mz)"
   ]
  },
  {
   "cell_type": "code",
   "execution_count": 33,
   "metadata": {},
   "outputs": [],
   "source": [
    "q = [a for a in mp if a.mean_mz > 328.08 and a.mean_mz < 328.1][0]"
   ]
  },
  {
   "cell_type": "code",
   "execution_count": 34,
   "metadata": {},
   "outputs": [
    {
     "name": "stdout",
     "output_type": "stream",
     "text": [
      "[(328.0812956511999, 1.961618227838105, '/Users/simon/Dropbox/BioResearch/Meta_clustering/Burns/simon_test/MSS5b2.mzML'), (328.08132883013815, 1.2234237417227871, '/Users/simon/Dropbox/BioResearch/Meta_clustering/Burns/simon_test/MSS13a2.mzML'), (328.0813706748411, 0.4462211116452736, '/Users/simon/Dropbox/BioResearch/Meta_clustering/Burns/simon_test/MSS5a2.mzML'), (328.0813941397981, 0.6783745026322104, '/Users/simon/Dropbox/BioResearch/Meta_clustering/Burns/simon_test/MSS5a1.mzML'), (328.08143142118763, 0.50785736422053, '/Users/simon/Dropbox/BioResearch/Meta_clustering/Burns/simon_test/MSS5b2.mzML'), (328.081472668932, 3.270043006860777, '/Users/simon/Dropbox/BioResearch/Meta_clustering/Burns/simon_test/MSS13b.mzML'), (328.081495725493, 4.350383874173159, '/Users/simon/Dropbox/BioResearch/Meta_clustering/Burns/simon_test/MSS13a.mzML'), (328.0815124810689, 1.0788613924467114, '/Users/simon/Dropbox/BioResearch/Meta_clustering/Burns/simon_test/MSS14b.mzML'), (328.0815571384984, 0.8937712608718656, '/Users/simon/Dropbox/BioResearch/Meta_clustering/Burns/simon_test/MSS14a.mzML'), (328.0815652818202, 1.1094056777352796, '/Users/simon/Dropbox/BioResearch/Meta_clustering/Burns/simon_test/MSS13a1.mzML'), (328.0815757836028, 2.0031499315690424, '/Users/simon/Dropbox/BioResearch/Meta_clustering/Burns/simon_test/MSS5b3.mzML'), (328.08161730736293, 1.7688996381029183, '/Users/simon/Dropbox/BioResearch/Meta_clustering/Burns/simon_test/MSS5b1.mzML'), (328.08162116961483, 0.8100670659760278, '/Users/simon/Dropbox/BioResearch/Meta_clustering/Burns/simon_test/MSS5a3.mzML'), (328.0816221031584, 0.8177909892372146, '/Users/simon/Dropbox/BioResearch/Meta_clustering/Burns/simon_test/MSS13b1.mzML'), (328.0816386264273, 0.8761211946060682, '/Users/simon/Dropbox/BioResearch/Meta_clustering/Burns/simon_test/MSS13a3.mzML'), (328.08165670470817, 5.52933652759056, '/Users/simon/Dropbox/BioResearch/Meta_clustering/Burns/simon_test/MSS6b.mzML'), (328.08165964530565, 1.319186394562507, '/Users/simon/Dropbox/BioResearch/Meta_clustering/Burns/simon_test/MSS5a.mzML'), (328.0816605963382, 6.246963979064767, '/Users/simon/Dropbox/BioResearch/Meta_clustering/Burns/simon_test/MSS5b.mzML'), (328.08167132148833, 1.058851703281521, '/Users/simon/Dropbox/BioResearch/Meta_clustering/Burns/simon_test/MSS13b3.mzML'), (328.08167253696143, 6.824895267017023, '/Users/simon/Dropbox/BioResearch/Meta_clustering/Burns/simon_test/MSS4a.mzML'), (328.08167417502335, 3.4110739207048555, '/Users/simon/Dropbox/BioResearch/Meta_clustering/Burns/simon_test/MSS6a.mzML'), (328.0816773574614, 2.6167405071737764, '/Users/simon/Dropbox/BioResearch/Meta_clustering/Burns/simon_test/MSS3b.mzML'), (328.08167954203117, 4.533090532270625, '/Users/simon/Dropbox/BioResearch/Meta_clustering/Burns/simon_test/MSS3a.mzML'), (328.0816805307018, 9.329477429549803, '/Users/simon/Dropbox/BioResearch/Meta_clustering/Burns/simon_test/MSS2b.mzML'), (328.08169195348086, 2.913357725039914, '/Users/simon/Dropbox/BioResearch/Meta_clustering/Burns/simon_test/MSS2a.mzML'), (328.0817109578698, 2.95339172082495, '/Users/simon/Dropbox/BioResearch/Meta_clustering/Burns/simon_test/MSS4b.mzML'), (328.0817148157421, 4.288376444550368, '/Users/simon/Dropbox/BioResearch/Meta_clustering/Burns/simon_test/MSS1b.mzML'), (328.08171982815736, 6.437818549459675, '/Users/simon/Dropbox/BioResearch/Meta_clustering/Burns/simon_test/MSS1a.mzML'), (328.0817369805272, 0.04395657086256865, '/Users/simon/Dropbox/BioResearch/Meta_clustering/Burns/simon_test/MSS4b.mzML'), (328.0819740180289, 0.4124378973931558, '/Users/simon/Dropbox/BioResearch/Meta_clustering/Burns/simon_test/MSS13b2.mzML')]\n"
     ]
    }
   ],
   "source": [
    "print q.peaks"
   ]
  },
  {
   "cell_type": "code",
   "execution_count": 35,
   "metadata": {},
   "outputs": [
    {
     "name": "stdout",
     "output_type": "stream",
     "text": [
      "107.63994758\n"
     ]
    }
   ],
   "source": [
    "p1 = 2572\n",
    "p2 = 2573\n",
    "print 1e6*abs(mp[p1].mean_mz-mp[p2].mean_mz)/mp[p1].mean_mz"
   ]
  },
  {
   "cell_type": "code",
   "execution_count": 36,
   "metadata": {},
   "outputs": [
    {
     "name": "stdout",
     "output_type": "stream",
     "text": [
      "[(300.20190657112727, 330605.0625), (301.1410595025307, 108366.5), (302.2691020864966, 60602.59375), (302.2692083234061, 86868.59375), (304.24813646035955, 27472124.0), (305.251544676237, 4940619.5), (309.20387322504064, 4170671.5), (310.2068512793982, 738490.9375), (311.2102966308594, 61633.65625), (313.3103976678348, 133573.78125), (315.14379591122935, 121402.484375), (316.175703545631, 165309.78125), (320.24328814979003, 99273.8515625), (321.13103554693424, 361104.375), (322.1343688964844, 59286.58984375), (325.1775029985252, 614140.4375), (326.18087254025653, 140588.671875), (327.0081557780161, 712102.0), (328.01179320697173, 81461.4296875)]\n"
     ]
    }
   ],
   "source": [
    "b = '/Users/simon/Dropbox/BioResearch/Meta_clustering/Burns/simon_test/Blank_170601175639.mzML'\n",
    "f = filter(lambda x: x[0]>300.08 and x[0]<328.09,data[b])\n",
    "print f"
   ]
  },
  {
   "cell_type": "code",
   "execution_count": null,
   "metadata": {},
   "outputs": [],
   "source": []
  },
  {
   "cell_type": "code",
   "execution_count": null,
   "metadata": {
    "collapsed": true
   },
   "outputs": [],
   "source": []
  }
 ],
 "metadata": {
  "kernelspec": {
   "display_name": "Python 2",
   "language": "python",
   "name": "python2"
  },
  "language_info": {
   "codemirror_mode": {
    "name": "ipython",
    "version": 2
   },
   "file_extension": ".py",
   "mimetype": "text/x-python",
   "name": "python",
   "nbconvert_exporter": "python",
   "pygments_lexer": "ipython2",
   "version": "2.7.10"
  }
 },
 "nbformat": 4,
 "nbformat_minor": 2
}
