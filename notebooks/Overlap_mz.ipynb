{
 "cells": [
  {
   "cell_type": "markdown",
   "metadata": {},
   "source": [
    "Compare the number of unique ones in each analysis"
   ]
  },
  {
   "cell_type": "code",
   "execution_count": 1,
   "metadata": {
    "collapsed": true
   },
   "outputs": [],
   "source": [
    "files = {}\n",
    "# files['ink'] = 'spreadsheets/ink_v_ink_raw/ink_v_ink_raw_log_1e-05_tus.csv'\n",
    "# files['paper'] = 'spreadsheets/paper_v_paper_raw/paper_v_paper_raw_log_1e-05_tus.csv'\n",
    "# files['both'] = 'spreadsheets/both_v_both_raw/both_v_both_raw_log_1e-05_tus.csv'\n",
    "james_ink_file = 'spreadsheets/inks/inks.csv'\n",
    "\n",
    "files['ink'] = 'spreadsheets/ink_v_ink/ink_v_ink_log_1e-05_tus.csv'\n",
    "files['paper'] = 'spreadsheets/paper_v_paper/paper_v_paper_log_1e-05_tus.csv'\n",
    "files['both'] = 'spreadsheets/both_v_both/both_v_both_log_1e-05_tus.csv'\n",
    "\n",
    "# files['ink'] = 'spreadsheets/ink_v_ink/ink_v_ink_log_0.01_tus.csv'\n",
    "# files['paper'] = 'spreadsheets/paper_v_paper/paper_v_paper_log_0.01_tus.csv'\n",
    "# files['both'] = 'spreadsheets/both_v_both/both_v_both_log_0.01_tus.csv'"
   ]
  },
  {
   "cell_type": "code",
   "execution_count": 2,
   "metadata": {
    "collapsed": true
   },
   "outputs": [],
   "source": [
    "import csv\n",
    "masses = {}\n",
    "for ids,filename in files.items():\n",
    "    masses[ids] = []\n",
    "    with open(filename,'r') as f:\n",
    "        reader = csv.reader(f)\n",
    "        heads = reader.next()\n",
    "        for line in reader:\n",
    "            q = float(line[-1])\n",
    "            if q<=0.05:\n",
    "                masses[ids].append(line[0])"
   ]
  },
  {
   "cell_type": "code",
   "execution_count": 3,
   "metadata": {
    "collapsed": true
   },
   "outputs": [],
   "source": [
    "combined = {}\n",
    "for ids,ma in masses.items():\n",
    "    for m in ma:\n",
    "        if not m in combined:\n",
    "            combined[m] = []\n",
    "            for i in masses:\n",
    "                if m in masses[i]:\n",
    "                    combined[m].append(i)\n",
    "\n",
    "for m in combined:\n",
    "    combined[m] = sorted(combined[m])\n",
    "    combined[m] = \" \".join(combined[m])\n"
   ]
  },
  {
   "cell_type": "code",
   "execution_count": 4,
   "metadata": {
    "collapsed": true
   },
   "outputs": [],
   "source": [
    "counts = {}\n",
    "mass_lists = {}\n",
    "for m,l in combined.items():\n",
    "    if l in counts:\n",
    "        counts[l] += 1\n",
    "        mass_lists[l].append(m)\n",
    "    else:\n",
    "        counts[l] = 1\n",
    "        mass_lists[l] = [m]"
   ]
  },
  {
   "cell_type": "code",
   "execution_count": 5,
   "metadata": {},
   "outputs": [
    {
     "name": "stdout",
     "output_type": "stream",
     "text": [
      "{'both paper': 6, 'both ink': 27, 'both': 47, 'paper': 1, 'ink': 11, 'both ink paper': 13}\n"
     ]
    }
   ],
   "source": [
    "print counts"
   ]
  },
  {
   "cell_type": "code",
   "execution_count": 7,
   "metadata": {},
   "outputs": [
    {
     "name": "stdout",
     "output_type": "stream",
     "text": [
      "['283.17533952928585']\n"
     ]
    }
   ],
   "source": [
    "print mass_lists['paper']"
   ]
  },
  {
   "cell_type": "code",
   "execution_count": 136,
   "metadata": {
    "collapsed": true
   },
   "outputs": [],
   "source": [
    "rows = []\n",
    "with open(james_ink_file,'r') as f:\n",
    "    reader = csv.reader(f)\n",
    "    heads = reader.next()\n",
    "    for row in reader:\n",
    "        rows.append(row)"
   ]
  },
  {
   "cell_type": "code",
   "execution_count": 137,
   "metadata": {
    "collapsed": true
   },
   "outputs": [],
   "source": [
    "rows = sorted(rows,key = lambda x: x[0])\n",
    "ink_mz = [r[0] for r in rows]"
   ]
  },
  {
   "cell_type": "code",
   "execution_count": 138,
   "metadata": {},
   "outputs": [
    {
     "name": "stdout",
     "output_type": "stream",
     "text": [
      "11\n"
     ]
    }
   ],
   "source": [
    "matchrows = []\n",
    "print len(mass_lists['ink'])\n",
    "for m in mass_lists['ink']:\n",
    "    a = [(1e6*abs(float(m)-float(q))/float(m),q) for q in ink_mz]\n",
    "    c = zip(a,rows)\n",
    "    b = filter(lambda x: x[0][0]<5,c)\n",
    "    if len(b) > 0:\n",
    "        suba,subrows = zip(*b)\n",
    "        subrows = subrows[0]\n",
    "        pos = subrows\n",
    "        newrow = [m] + [suba[0][1],suba[0][0]] + pos[1:]\n",
    "        matchrows.append(newrow)"
   ]
  },
  {
   "cell_type": "code",
   "execution_count": 139,
   "metadata": {},
   "outputs": [
    {
     "name": "stdout",
     "output_type": "stream",
     "text": [
      "24 24\n"
     ]
    }
   ],
   "source": [
    "matchheads = ['origmz','inkmz','ppm'] + heads[1:]\n",
    "print len(matchheads),len(matchrows[0])\n",
    "with open('ink_matches.csv','w') as f:\n",
    "    writer = csv.writer(f)\n",
    "    writer.writerow(matchheads)\n",
    "    for row in matchrows:\n",
    "        writer.writerow(row)"
   ]
  },
  {
   "cell_type": "code",
   "execution_count": 140,
   "metadata": {},
   "outputs": [
    {
     "name": "stdout",
     "output_type": "stream",
     "text": [
      "['origmz', 'inkmz', 'ppm', 'BlBia.mzML', 'BlBib.mzML', 'BlBic.mzML', 'BlIGa.mzML', 'BlIGb.mzML', 'BlIGc.mzML', 'FoPea.mzML', 'FoPeb.mzML', 'FoPec.mzML', 'HMIGa.mzML', 'HMIGb.mzML', 'HMIGc.mzML', 'Rhoda.mzML', 'Rhodb.mzML', 'Rhodc.mzML', 'SiIBa.mzML', 'SiIBb.mzML', 'SiIBc.mzML', 'SuIBa.mzML', 'SuIBb.mzML', 'SuIBc.mzML']\n"
     ]
    }
   ],
   "source": [
    "print matchheads"
   ]
  },
  {
   "cell_type": "code",
   "execution_count": null,
   "metadata": {
    "collapsed": true
   },
   "outputs": [],
   "source": []
  }
 ],
 "metadata": {
  "kernelspec": {
   "display_name": "Python 2",
   "language": "python",
   "name": "python2"
  },
  "language_info": {
   "codemirror_mode": {
    "name": "ipython",
    "version": 2
   },
   "file_extension": ".py",
   "mimetype": "text/x-python",
   "name": "python",
   "nbconvert_exporter": "python",
   "pygments_lexer": "ipython2",
   "version": "2.7.10"
  }
 },
 "nbformat": 4,
 "nbformat_minor": 2
}
