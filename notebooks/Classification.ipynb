{
 "cells": [
  {
   "cell_type": "code",
   "execution_count": 1,
   "metadata": {
    "collapsed": true
   },
   "outputs": [],
   "source": [
    "import sys,glob,csv\n",
    "sys.path.append('/home/simon/git/burns/code/')"
   ]
  },
  {
   "cell_type": "code",
   "execution_count": 2,
   "metadata": {},
   "outputs": [
    {
     "name": "stdout",
     "output_type": "stream",
     "text": [
      "n_blank\n"
     ]
    }
   ],
   "source": [
    "data_file = '/Users/simon/git/burns/notebooks/spreadsheets/both_v_both/both_v_both_log_1e-05_tus.csv'\n",
    "rows = []\n",
    "with open(data_file,'r') as f:\n",
    "    reader = csv.reader(f)\n",
    "    heads = reader.next()\n",
    "    for line in reader:\n",
    "        rows.append(line)\n",
    "print heads[-3]"
   ]
  },
  {
   "cell_type": "code",
   "execution_count": 3,
   "metadata": {
    "collapsed": true
   },
   "outputs": [],
   "source": [
    "file_names = heads[1:-3]\n",
    "class1 = file_names[:26]\n",
    "class2 = file_names[26:]\n",
    "\n",
    "sub_data = []\n",
    "sub_row = []\n",
    "fmz = []\n",
    "for row in rows:\n",
    "    n_present = 0\n",
    "    sub_row = []\n",
    "    for name in class1 + class2:\n",
    "        pos = heads.index(name)\n",
    "        da = row[pos]\n",
    "        if da == 'nan':\n",
    "            sub_row.append(0.0)\n",
    "        else:\n",
    "            n_present += 1\n",
    "            sub_row.append(float(da))\n",
    "    n_blank = int(row[-3])\n",
    "    if n_present >= 3 and n_blank <= 0:\n",
    "        sub_data.append(sub_row)\n",
    "        fmz.append(float(row[0]))"
   ]
  },
  {
   "cell_type": "code",
   "execution_count": 4,
   "metadata": {
    "collapsed": true
   },
   "outputs": [],
   "source": [
    "from sklearn.model_selection import StratifiedKFold\n",
    "import numpy as np\n"
   ]
  },
  {
   "cell_type": "code",
   "execution_count": 5,
   "metadata": {},
   "outputs": [
    {
     "name": "stdout",
     "output_type": "stream",
     "text": [
      "(44, 496)\n"
     ]
    }
   ],
   "source": [
    "X = np.array(sub_data).T\n",
    "print X.shape\n",
    "y = [0 for c in class1] + [1 for c in class2]\n",
    "y = np.array(y)"
   ]
  },
  {
   "cell_type": "code",
   "execution_count": 7,
   "metadata": {},
   "outputs": [
    {
     "data": {
      "text/plain": [
       "3"
      ]
     },
     "execution_count": 7,
     "metadata": {},
     "output_type": "execute_result"
    }
   ],
   "source": [
    "skf = StratifiedKFold(n_splits=3)\n",
    "skf.get_n_splits(X,y)"
   ]
  },
  {
   "cell_type": "code",
   "execution_count": 8,
   "metadata": {},
   "outputs": [
    {
     "name": "stdout",
     "output_type": "stream",
     "text": [
      "0.844135802469\n"
     ]
    }
   ],
   "source": [
    "from sklearn.svm import SVC\n",
    "from sklearn.metrics import roc_auc_score,roc_curve\n",
    "tpr = []\n",
    "fpr = []\n",
    "totr = 0\n",
    "for train_index,test_index in skf.split(X,y):\n",
    "    s = SVC(gamma = 'auto',probability = True)\n",
    "    s.fit(X[train_index],y[train_index])\n",
    "    preds = s.predict_proba(X[test_index])\n",
    "    r = roc_auc_score(y[test_index],preds[:,1])\n",
    "    a,b,t = roc_curve(y[test_index],preds[:,1])\n",
    "    tpr.append(a)\n",
    "    fpr.append(b)\n",
    "    totr += r\n",
    "print totr/(1.0*3)"
   ]
  },
  {
   "cell_type": "code",
   "execution_count": 9,
   "metadata": {},
   "outputs": [
    {
     "data": {
      "text/plain": [
       "[<matplotlib.lines.Line2D at 0x10ed77c90>]"
      ]
     },
     "execution_count": 9,
     "metadata": {},
     "output_type": "execute_result"
    },
    {
     "data": {
      "image/png": "[encoded data removed]",
      "text/plain": [
       "<matplotlib.figure.Figure at 0x10fd0ea90>"
      ]
     },
     "metadata": {},
     "output_type": "display_data"
    }
   ],
   "source": [
    "import pylab as plt\n",
    "%matplotlib inline\n",
    "for a,b in zip(tpr,fpr):\n",
    "    plt.plot(a,b)\n",
    "plt.plot([0,1],[0,1],'k--')"
   ]
  },
  {
   "cell_type": "code",
   "execution_count": 10,
   "metadata": {},
   "outputs": [
    {
     "name": "stdout",
     "output_type": "stream",
     "text": [
      "['MSS1a', 'MSS1b']\n",
      "[0, 0] [0 0]\n",
      "1.0\n",
      "['MSS2a', 'MSS2b']\n",
      "[0, 0] [0 0]\n",
      "1.0\n",
      "['MSS3a', 'MSS3b']\n",
      "[0, 0] [0 0]\n",
      "1.0\n",
      "['MSS4a', 'MSS4b']\n",
      "[0, 0] [0 0]\n",
      "1.0\n",
      "['MSS5a', 'MSS5b']\n",
      "[0, 1, 1, 1, 0, 0, 0, 0] [0 0 0 0 0 0 0 0]\n",
      "0.625\n",
      "['MSS6a', 'MSS6b']\n",
      "[0, 0] [0 0]\n",
      "1.0\n",
      "['MSS13a', 'MSS13b']\n",
      "[0, 0, 0, 1, 0, 0, 1, 0] [0 0 0 0 0 0 0 0]\n",
      "0.75\n",
      "['MSS10a', 'MSS10b']\n",
      "[1, 1] [1 1]\n",
      "1.0\n",
      "['MSS11a', 'MSS11b']\n",
      "[1, 1, 1, 1, 1, 1, 1, 0] [1 1 1 1 1 1 1 1]\n",
      "0.875\n",
      "['MSS14a', 'MSS14b']\n",
      "[1, 1, 1, 1, 1, 0, 0, 0] [1 1 1 1 1 1 1 1]\n",
      "0.625\n"
     ]
    }
   ],
   "source": [
    "class1_id = [['MSS1a','MSS1b'],\n",
    "             ['MSS2a','MSS2b'],\n",
    "             ['MSS3a','MSS3b'],\n",
    "             ['MSS4a','MSS4b'],\n",
    "             ['MSS5a','MSS5b'],\n",
    "             ['MSS6a','MSS6b'],\n",
    "             ['MSS13a','MSS13b']]\n",
    "class2_id = [['MSS10a','MSS10b'],['MSS11a','MSS11b'],['MSS14a','MSS14b']]\n",
    "train_index = []\n",
    "test_index = []\n",
    "rp = []\n",
    "yt = []\n",
    "p = []\n",
    "for i in class1_id+class2_id:\n",
    "    print i\n",
    "    train_index = []\n",
    "    test_index = []\n",
    "    for j,n in enumerate(class1+class2):\n",
    "        if n.startswith(i[0]) or n.startswith(i[1]):\n",
    "            test_index.append(j)\n",
    "        else:\n",
    "            train_index.append(j)\n",
    "    \n",
    "    s = SVC(C = 1e6,gamma = 'auto',probability = True)\n",
    "    s.fit(X[train_index],y[train_index])\n",
    "    preds = s.predict_proba(X[test_index])\n",
    "    p += list(preds[:,1])\n",
    "    raw_preds = list(s.predict(X[test_index]))\n",
    "    rp += raw_preds\n",
    "    yt += list(y[test_index])\n",
    "    print raw_preds,y[test_index]\n",
    "    acc = sum([1 if a==b else 0 for a,b in zip(raw_preds,y[test_index])])/(1.0*len(raw_preds))\n",
    "    print acc\n",
    "#     r = roc_auc_score(y[test_index],preds[:,1])\n",
    "#     print r\n",
    "#     break"
   ]
  },
  {
   "cell_type": "code",
   "execution_count": 11,
   "metadata": {},
   "outputs": [
    {
     "name": "stdout",
     "output_type": "stream",
     "text": [
      "0.758547008547\n"
     ]
    },
    {
     "data": {
      "image/png": "[encoded data removed]",
      "text/plain": [
       "<matplotlib.figure.Figure at 0x10fec10d0>"
      ]
     },
     "metadata": {},
     "output_type": "display_data"
    }
   ],
   "source": [
    "r = roc_auc_score(yt,p)\n",
    "tpr,fpr,thresh = roc_curve(yt,p)\n",
    "plt.figure(figsize=(16,16))\n",
    "plt.plot(tpr,fpr,linewidth=4)\n",
    "plt.plot([0,1],[0,1],'k--',linewidth=2)\n",
    "plt.xticks(np.arange(0.0,1.1,0.2),fontsize=24)\n",
    "plt.yticks(np.arange(0.0,1.1,0.2),fontsize=24)\n",
    "plt.xlabel('True positive rate',fontsize=24)\n",
    "plt.ylabel('False positive rate',fontsize=24)\n",
    "plt.title(\"AUC = {:.2f}\".format(r),fontsize=24)\n",
    "plt.savefig('roc.pdf')\n",
    "print r"
   ]
  },
  {
   "cell_type": "markdown",
   "metadata": {
    "collapsed": true
   },
   "source": [
    "Train the classifier and then test on Goldsmith, to see what happens!"
   ]
  },
  {
   "cell_type": "code",
   "execution_count": 38,
   "metadata": {
    "collapsed": true
   },
   "outputs": [],
   "source": [
    "goldsmith_data = {}\n",
    "with open('spreadsheets/goldsmith/goldsmith_log_1e-05_tus.csv','r') as f:\n",
    "    reader = csv.reader(f)\n",
    "    heads = reader.next()\n",
    "    for line in reader:\n",
    "        goldsmith_data[line[0]] = line"
   ]
  },
  {
   "cell_type": "code",
   "execution_count": 61,
   "metadata": {},
   "outputs": [
    {
     "name": "stdout",
     "output_type": "stream",
     "text": [
      "MSS12b2.mzML [ 0.07288712  0.92711288]\n",
      "MSS12b1.mzML [ 0.27225356  0.72774644]\n",
      "MSS12b3.mzML [ 0.09523834  0.90476166]\n",
      "MSS12b.mzML [ 0.08441868  0.91558132]\n"
     ]
    }
   ],
   "source": [
    "gTest = np.zeros((4,len(fmz)),np.double)\n",
    "for i,mz in enumerate(fmz):\n",
    "    best = None\n",
    "    ee = 1e6\n",
    "    for gmz in goldsmith_data:\n",
    "        gmzf = float(gmz)\n",
    "        e = 1e6*abs(mz - gmzf)/mz\n",
    "        if e < ee:\n",
    "            best = gmz\n",
    "            ee = e\n",
    "    if ee < 5:\n",
    "        td = goldsmith_data[best][1:5]\n",
    "        td = [0 if t == 'nan' else t for t in td]\n",
    "        gTest[:,i] = td\n",
    "\n",
    "s = SVC(C = 1e6,gamma = 'auto',probability = True)\n",
    "s.fit(X,y)\n",
    "preds = s.predict_proba(gTest)\n",
    "for i,h in enumerate(heads[1:5]):\n",
    "    print h,preds[i]"
   ]
  },
  {
   "cell_type": "code",
   "execution_count": 59,
   "metadata": {},
   "outputs": [
    {
     "name": "stdout",
     "output_type": "stream",
     "text": [
      "['mz', 'MSS12b2.mzML', 'MSS12b1.mzML', 'MSS12b3.mzML', 'MSS12b.mzML', 'n_blank']\n"
     ]
    }
   ],
   "source": []
  },
  {
   "cell_type": "code",
   "execution_count": null,
   "metadata": {
    "collapsed": true
   },
   "outputs": [],
   "source": []
  }
 ],
 "metadata": {
  "kernelspec": {
   "display_name": "Python 2",
   "language": "python",
   "name": "python2"
  },
  "language_info": {
   "codemirror_mode": {
    "name": "ipython",
    "version": 2
   },
   "file_extension": ".py",
   "mimetype": "text/x-python",
   "name": "python",
   "nbconvert_exporter": "python",
   "pygments_lexer": "ipython2",
   "version": "2.7.10"
  }
 },
 "nbformat": 4,
 "nbformat_minor": 2
}
