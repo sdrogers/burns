{
 "cells": [
  {
   "cell_type": "code",
   "execution_count": 1,
   "metadata": {
    "collapsed": true
   },
   "outputs": [],
   "source": [
    "import sys\n",
    "sys.path.append('/Users/simon/git/burns/code/')\n",
    "data_dir = '/Users/simon/Dropbox/BioResearch/Meta_clustering/Burns/ink_files/'"
   ]
  },
  {
   "cell_type": "code",
   "execution_count": 2,
   "metadata": {
    "collapsed": true
   },
   "outputs": [],
   "source": [
    "prefixes = ['BlBi','FoPe','Rhod','SiIB','SuIB','BlIG','HMIG']"
   ]
  },
  {
   "cell_type": "code",
   "execution_count": 5,
   "metadata": {},
   "outputs": [
    {
     "name": "stdout",
     "output_type": "stream",
     "text": [
      "['/Users/simon/Dropbox/BioResearch/Meta_clustering/Burns/ink_files/BlBia.mzML', '/Users/simon/Dropbox/BioResearch/Meta_clustering/Burns/ink_files/BlBib.mzML', '/Users/simon/Dropbox/BioResearch/Meta_clustering/Burns/ink_files/BlBic.mzML', '/Users/simon/Dropbox/BioResearch/Meta_clustering/Burns/ink_files/FoPea.mzML', '/Users/simon/Dropbox/BioResearch/Meta_clustering/Burns/ink_files/FoPeb.mzML', '/Users/simon/Dropbox/BioResearch/Meta_clustering/Burns/ink_files/FoPec.mzML', '/Users/simon/Dropbox/BioResearch/Meta_clustering/Burns/ink_files/Rhoda.mzML', '/Users/simon/Dropbox/BioResearch/Meta_clustering/Burns/ink_files/Rhodb.mzML', '/Users/simon/Dropbox/BioResearch/Meta_clustering/Burns/ink_files/Rhodc.mzML', '/Users/simon/Dropbox/BioResearch/Meta_clustering/Burns/ink_files/SiIBa.mzML', '/Users/simon/Dropbox/BioResearch/Meta_clustering/Burns/ink_files/SiIBb.mzML', '/Users/simon/Dropbox/BioResearch/Meta_clustering/Burns/ink_files/SiIBc.mzML', '/Users/simon/Dropbox/BioResearch/Meta_clustering/Burns/ink_files/SuIBa.mzML', '/Users/simon/Dropbox/BioResearch/Meta_clustering/Burns/ink_files/SuIBb.mzML', '/Users/simon/Dropbox/BioResearch/Meta_clustering/Burns/ink_files/SuIBc.mzML', '/Users/simon/Dropbox/BioResearch/Meta_clustering/Burns/ink_files/BlIGa.mzML', '/Users/simon/Dropbox/BioResearch/Meta_clustering/Burns/ink_files/BlIGb.mzML', '/Users/simon/Dropbox/BioResearch/Meta_clustering/Burns/ink_files/BlIGc.mzML', '/Users/simon/Dropbox/BioResearch/Meta_clustering/Burns/ink_files/HMIGa.mzML', '/Users/simon/Dropbox/BioResearch/Meta_clustering/Burns/ink_files/HMIGb.mzML', '/Users/simon/Dropbox/BioResearch/Meta_clustering/Burns/ink_files/HMIGc.mzML']\n"
     ]
    }
   ],
   "source": [
    "import glob\n",
    "files = []\n",
    "for prefix in prefixes:\n",
    "    files += glob.glob(data_dir + prefix + '*.mzML')\n",
    "print files"
   ]
  },
  {
   "cell_type": "code",
   "execution_count": 7,
   "metadata": {},
   "outputs": [],
   "source": [
    "from load_di import load_di\n",
    "data = {}\n",
    "for f in files:\n",
    "    data[f] = load_di(f)"
   ]
  },
  {
   "cell_type": "code",
   "execution_count": 8,
   "metadata": {
    "collapsed": true
   },
   "outputs": [],
   "source": [
    "normalised_data = {}\n",
    "for f,spec in data.items():\n",
    "    mz,inte = zip(*spec)\n",
    "    max_inte = max(inte)\n",
    "    new_inte = [1000.0*i/max_inte for i in inte]\n",
    "    normalised_data[f] = zip(mz,new_inte)"
   ]
  },
  {
   "cell_type": "code",
   "execution_count": 10,
   "metadata": {},
   "outputs": [
    {
     "name": "stdout",
     "output_type": "stream",
     "text": [
      "12401 peaks\n"
     ]
    }
   ],
   "source": [
    "from matching import Greedy\n",
    "g = Greedy()\n",
    "mp = g.process(normalised_data,5)"
   ]
  },
  {
   "cell_type": "code",
   "execution_count": 12,
   "metadata": {},
   "outputs": [
    {
     "name": "stdout",
     "output_type": "stream",
     "text": [
      "['/Users/simon/Dropbox/BioResearch/Meta_clustering/Burns/ink_files/BlBia.mzML', '/Users/simon/Dropbox/BioResearch/Meta_clustering/Burns/ink_files/BlBib.mzML', '/Users/simon/Dropbox/BioResearch/Meta_clustering/Burns/ink_files/BlBic.mzML', '/Users/simon/Dropbox/BioResearch/Meta_clustering/Burns/ink_files/BlIGa.mzML', '/Users/simon/Dropbox/BioResearch/Meta_clustering/Burns/ink_files/BlIGb.mzML', '/Users/simon/Dropbox/BioResearch/Meta_clustering/Burns/ink_files/BlIGc.mzML', '/Users/simon/Dropbox/BioResearch/Meta_clustering/Burns/ink_files/FoPea.mzML', '/Users/simon/Dropbox/BioResearch/Meta_clustering/Burns/ink_files/FoPeb.mzML', '/Users/simon/Dropbox/BioResearch/Meta_clustering/Burns/ink_files/FoPec.mzML', '/Users/simon/Dropbox/BioResearch/Meta_clustering/Burns/ink_files/HMIGa.mzML', '/Users/simon/Dropbox/BioResearch/Meta_clustering/Burns/ink_files/HMIGb.mzML', '/Users/simon/Dropbox/BioResearch/Meta_clustering/Burns/ink_files/HMIGc.mzML', '/Users/simon/Dropbox/BioResearch/Meta_clustering/Burns/ink_files/Rhoda.mzML', '/Users/simon/Dropbox/BioResearch/Meta_clustering/Burns/ink_files/Rhodb.mzML', '/Users/simon/Dropbox/BioResearch/Meta_clustering/Burns/ink_files/Rhodc.mzML', '/Users/simon/Dropbox/BioResearch/Meta_clustering/Burns/ink_files/SiIBa.mzML', '/Users/simon/Dropbox/BioResearch/Meta_clustering/Burns/ink_files/SiIBb.mzML', '/Users/simon/Dropbox/BioResearch/Meta_clustering/Burns/ink_files/SiIBc.mzML', '/Users/simon/Dropbox/BioResearch/Meta_clustering/Burns/ink_files/SuIBa.mzML', '/Users/simon/Dropbox/BioResearch/Meta_clustering/Burns/ink_files/SuIBb.mzML', '/Users/simon/Dropbox/BioResearch/Meta_clustering/Burns/ink_files/SuIBc.mzML']\n"
     ]
    }
   ],
   "source": [
    "short_names = {}\n",
    "for s in normalised_data.keys():\n",
    "    short_names[s] = s.split('/')[-1]\n",
    "name_list = sorted(normalised_data.keys())"
   ]
  },
  {
   "cell_type": "code",
   "execution_count": 23,
   "metadata": {},
   "outputs": [],
   "source": [
    "rows = []\n",
    "for ps in mp:\n",
    "    row = [ps.mean_mz]\n",
    "    for name in name_list:\n",
    "        peaks = filter(lambda x: x[2] == name,ps.peaks)\n",
    "        if len(peaks) == 0:\n",
    "            row.append('nan')\n",
    "        else:\n",
    "            peaks = sorted(peaks,key = lambda x: x[1], reverse = True)\n",
    "            row.append(peaks[0][1])\n",
    "    rows.append(row)\n",
    "    \n",
    "rows = sorted(rows,key = lambda x: sum([1 for r in x if r == 'nan']))"
   ]
  },
  {
   "cell_type": "code",
   "execution_count": 24,
   "metadata": {
    "collapsed": true
   },
   "outputs": [],
   "source": [
    "import csv\n",
    "with open('spreadsheets/inks/inks.csv','w') as f:\n",
    "    writer = csv.writer(f)\n",
    "    heads = ['mz'] + [short_names[s] for s in name_list]\n",
    "    writer.writerow(heads)\n",
    "    for row in rows:\n",
    "        writer.writerow(row)"
   ]
  },
  {
   "cell_type": "code",
   "execution_count": null,
   "metadata": {
    "collapsed": true
   },
   "outputs": [],
   "source": []
  }
 ],
 "metadata": {
  "kernelspec": {
   "display_name": "Python 2",
   "language": "python",
   "name": "python2"
  },
  "language_info": {
   "codemirror_mode": {
    "name": "ipython",
    "version": 2
   },
   "file_extension": ".py",
   "mimetype": "text/x-python",
   "name": "python",
   "nbconvert_exporter": "python",
   "pygments_lexer": "ipython2",
   "version": "2.7.10"
  }
 },
 "nbformat": 4,
 "nbformat_minor": 2
}
