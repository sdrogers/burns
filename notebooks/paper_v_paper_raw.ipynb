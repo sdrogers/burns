{
 "cells": [
  {
   "cell_type": "markdown",
   "metadata": {},
   "source": [
    "Burns paper v smith paper"
   ]
  },
  {
   "cell_type": "code",
   "execution_count": 7,
   "metadata": {
    "collapsed": true
   },
   "outputs": [],
   "source": [
    "import sys,glob\n",
    "sys.path.append('/Users/simon/git/burns/code/')"
   ]
  },
  {
   "cell_type": "code",
   "execution_count": 8,
   "metadata": {},
   "outputs": [
    {
     "name": "stdout",
     "output_type": "stream",
     "text": [
      "The autoreload extension is already loaded. To reload it, use:\n",
      "  %reload_ext autoreload\n"
     ]
    }
   ],
   "source": [
    "%load_ext autoreload\n",
    "%autoreload 2"
   ]
  },
  {
   "cell_type": "code",
   "execution_count": 9,
   "metadata": {
    "collapsed": true
   },
   "outputs": [],
   "source": [
    "data_dir = '/Users/simon/Dropbox/BioResearch/Meta_clustering/Burns/simon_test/'\n",
    "blank_mz_tol = 5\n",
    "mz_tol = 5"
   ]
  },
  {
   "cell_type": "code",
   "execution_count": 10,
   "metadata": {},
   "outputs": [
    {
     "name": "stdout",
     "output_type": "stream",
     "text": [
      "13 9\n",
      "('/Users/simon/Dropbox/BioResearch/Meta_clustering/Burns/simon_test/MSS1a.mzML', '/Users/simon/Dropbox/BioResearch/Meta_clustering/Burns/simon_test/MSS2a.mzML', '/Users/simon/Dropbox/BioResearch/Meta_clustering/Burns/simon_test/MSS3a.mzML', '/Users/simon/Dropbox/BioResearch/Meta_clustering/Burns/simon_test/MSS4a.mzML', '/Users/simon/Dropbox/BioResearch/Meta_clustering/Burns/simon_test/MSS5a.mzML', '/Users/simon/Dropbox/BioResearch/Meta_clustering/Burns/simon_test/MSS5a1.mzML', '/Users/simon/Dropbox/BioResearch/Meta_clustering/Burns/simon_test/MSS5a2.mzML', '/Users/simon/Dropbox/BioResearch/Meta_clustering/Burns/simon_test/MSS5a3.mzML', '/Users/simon/Dropbox/BioResearch/Meta_clustering/Burns/simon_test/MSS6a.mzML', '/Users/simon/Dropbox/BioResearch/Meta_clustering/Burns/simon_test/MSS13a.mzML', '/Users/simon/Dropbox/BioResearch/Meta_clustering/Burns/simon_test/MSS13a1.mzML', '/Users/simon/Dropbox/BioResearch/Meta_clustering/Burns/simon_test/MSS13a2.mzML', '/Users/simon/Dropbox/BioResearch/Meta_clustering/Burns/simon_test/MSS13a3.mzML')\n",
      "('/Users/simon/Dropbox/BioResearch/Meta_clustering/Burns/simon_test/MSS10a.mzML', '/Users/simon/Dropbox/BioResearch/Meta_clustering/Burns/simon_test/MSS11a.mzML', '/Users/simon/Dropbox/BioResearch/Meta_clustering/Burns/simon_test/MSS11a1.mzML', '/Users/simon/Dropbox/BioResearch/Meta_clustering/Burns/simon_test/MSS11a2.mzML', '/Users/simon/Dropbox/BioResearch/Meta_clustering/Burns/simon_test/MSS11a3.mzML', '/Users/simon/Dropbox/BioResearch/Meta_clustering/Burns/simon_test/MSS14a.mzML', '/Users/simon/Dropbox/BioResearch/Meta_clustering/Burns/simon_test/MSS14a1.mzML', '/Users/simon/Dropbox/BioResearch/Meta_clustering/Burns/simon_test/MSS14a2.mzML', '/Users/simon/Dropbox/BioResearch/Meta_clustering/Burns/simon_test/MSS14a3.mzML')\n",
      "['/Users/simon/Dropbox/BioResearch/Meta_clustering/Burns/simon_test/Blank_170509160722.mzML', '/Users/simon/Dropbox/BioResearch/Meta_clustering/Burns/simon_test/Blank_170509163024.mzML', '/Users/simon/Dropbox/BioResearch/Meta_clustering/Burns/simon_test/Blank_170509163257.mzML', '/Users/simon/Dropbox/BioResearch/Meta_clustering/Burns/simon_test/Blank_170509170513.mzML', '/Users/simon/Dropbox/BioResearch/Meta_clustering/Burns/simon_test/Blank_170509170746.mzML', '/Users/simon/Dropbox/BioResearch/Meta_clustering/Burns/simon_test/Blank_170509173047.mzML', '/Users/simon/Dropbox/BioResearch/Meta_clustering/Burns/simon_test/Blank_170509173322.mzML', '/Users/simon/Dropbox/BioResearch/Meta_clustering/Burns/simon_test/Blank_170601164510.mzML', '/Users/simon/Dropbox/BioResearch/Meta_clustering/Burns/simon_test/Blank_170601170305.mzML', '/Users/simon/Dropbox/BioResearch/Meta_clustering/Burns/simon_test/Blank_170601172100.mzML', '/Users/simon/Dropbox/BioResearch/Meta_clustering/Burns/simon_test/Blank_170601173852.mzML', '/Users/simon/Dropbox/BioResearch/Meta_clustering/Burns/simon_test/Blank_170601175639.mzML', '/Users/simon/Dropbox/BioResearch/Meta_clustering/Burns/simon_test/Blank_170601181435.mzML']\n"
     ]
    }
   ],
   "source": [
    "group1 = ['MSS1','MSS2','MSS3','MSS4','MSS5','MSS6','MSS13']\n",
    "group2 = ['MSS10','MSS11','MSS14']\n",
    "files1 = []\n",
    "files2 = []\n",
    "for g in group1:\n",
    "    pattern = data_dir + g + 'a' + '*.mzML'\n",
    "    matches = glob.glob(pattern)\n",
    "    for match in matches:\n",
    "        end_bit = match.split('/')[-1]\n",
    "        bfile = end_bit.split('a')\n",
    "        bfilename =  \"\".join(bfile[:-1]) + 'b' + bfile[-1]\n",
    "        files1.append((match,data_dir+bfilename))\n",
    "for g in group2:\n",
    "    pattern = data_dir + g + 'a' + '*.mzML'\n",
    "    matches = glob.glob(pattern)\n",
    "    for match in matches:\n",
    "        end_bit = match.split('/')[-1]\n",
    "        bfile = end_bit.split('a')\n",
    "        bfilename =  \"\".join(bfile[:-1]) + 'b' + bfile[-1]\n",
    "        files2.append((match,data_dir + bfilename))\n",
    "\n",
    "group1,paper1 = zip(*files1)\n",
    "group2,paper2 = zip(*files2)\n",
    "\n",
    "print len(group1),len(group2)\n",
    "print group1\n",
    "print group2\n",
    "papers = paper1+paper2\n",
    "\n",
    "\n",
    "blank_patterns = 'Blank_*'\n",
    "blank_files = glob.glob(data_dir + blank_patterns)\n",
    "print blank_files"
   ]
  },
  {
   "cell_type": "code",
   "execution_count": 11,
   "metadata": {
    "collapsed": true
   },
   "outputs": [],
   "source": [
    "group1 = paper1\n",
    "group2 = paper2"
   ]
  },
  {
   "cell_type": "code",
   "execution_count": 12,
   "metadata": {},
   "outputs": [],
   "source": [
    "from load_di import raw_load\n",
    "\n",
    "# s = load_di(group1[0])\n",
    "import glob\n",
    "data = {}\n",
    "for f in files1+files2:\n",
    "    out_file = '../csv_files/' + f[0].split('/')[-1].split('.')[0]+'.csv'\n",
    "#     data[f[0]] = load_di(f[0],blank_file = f[1],out_file = out_file,normalise = None,mz_tol = blank_mz_tol)\n",
    "    data[f[0]] = raw_load(f[0])\n",
    "    data[f[1]] = raw_load(f[1])\n",
    "\n",
    "for b in blank_files:\n",
    "    out_file = '../csv_files/' + b.split('/')[-1].split('.')[0]+'.csv'\n",
    "    data[b] = raw_load(b)\n"
   ]
  },
  {
   "cell_type": "markdown",
   "metadata": {},
   "source": [
    "Do some of Greedy matching"
   ]
  },
  {
   "cell_type": "markdown",
   "metadata": {
    "collapsed": true
   },
   "source": [
    "Write out a csv file for processing"
   ]
  },
  {
   "cell_type": "code",
   "execution_count": 16,
   "metadata": {},
   "outputs": [
    {
     "name": "stdout",
     "output_type": "stream",
     "text": [
      "921974 peaks\n"
     ]
    }
   ],
   "source": [
    "from matching import Greedy\n",
    "import numpy as np\n",
    "from scipy.stats import ttest_ind\n",
    "# for log in ['log','nolog']:\n",
    "for log in ['log']:\n",
    "#     for missing in ['nan',1e-5]:\n",
    "    for missing in [1e-5]:\n",
    "#         for normalise in ['none','tus']:\n",
    "        for normalise in ['tus']:\n",
    "            options = {'log':log,'missing':missing,'normalise':normalise}\n",
    "            n_tests = 0\n",
    "\n",
    "            if options['normalise'] == 'tus':\n",
    "                normalised_data = {}\n",
    "                for f,spec in data.items():\n",
    "                    mz_list,i_list = zip(*spec)\n",
    "                    tot_intensity = sum(i_list)\n",
    "                    new_intensity = [1000.0*i/tot_intensity for i in i_list]\n",
    "                    new_spec = zip(mz_list,new_intensity)\n",
    "                    normalised_data[f] = new_spec\n",
    "            elif options['normalise'] == 'none':\n",
    "                normalised_data = data\n",
    "            \n",
    "            g = Greedy()\n",
    "            mp = g.process(normalised_data,mz_tol)\n",
    "            \n",
    "            \n",
    "#             new_mp = []\n",
    "#             # remove peaksets that only appear in blanks\n",
    "#             for ps in mp:\n",
    "#                 for p in ps.peaks:\n",
    "#                     if p[2] in group1 or p[2] in group2:\n",
    "#                         found = True\n",
    "#                 if found:\n",
    "#                     new_mp.append(ps)\n",
    "            \n",
    "#             mp = new_mp\n",
    "            \n",
    "            display_names = {}\n",
    "            for g in group1+group2:\n",
    "                display_names[g] = g.split('/')[-1]\n",
    "            import csv\n",
    "            all_names = list(group1+group2)\n",
    "            res = []\n",
    "\n",
    "\n",
    "            heads = [\"mz\"] + [display_names[a] for a in all_names] + [\"n_blank\"] + [\"pval\"] +[\"qval\"]\n",
    "            for ps in mp:\n",
    "                row = [ps.mean_mz]\n",
    "                g1 = []\n",
    "                g2 = []\n",
    "                for n in all_names:\n",
    "                    peak = filter(lambda x: x[2] == n,ps.peaks)\n",
    "                    if len(peak) == 0:\n",
    "                        row.append(\"nan\")\n",
    "                        # take max intensity\n",
    "                        peak = sorted(peak,key = lambda x: x[1], reverse = True)\n",
    "                    else:\n",
    "                        row.append(peak[0][1])\n",
    "                    if n in group1:\n",
    "                        g1.append(row[-1])\n",
    "                    if n in group2:\n",
    "                        g2.append(row[-1])\n",
    "                        \n",
    "                ng1 = sum([1 for a in g1 if not a == \"nan\"])\n",
    "                ng2 = sum([1 for a in g2 if not a == \"nan\"])\n",
    "                if options['missing'] == 'nan':\n",
    "                    g1 = [a for a in g1 if not a == \"nan\"]\n",
    "                    g2 = [a for a in g2 if not a == \"nan\"]\n",
    "                else:\n",
    "                    g1 = [a if not a == \"nan\" else options[\"missing\"] for a in g1]\n",
    "                    g2 = [a if not a == \"nan\" else options[\"missing\"] for a in g2]\n",
    "                if options['log'] == 'log':\n",
    "                    g1 = [np.log10(a) for a in g1]\n",
    "                    g2 = [np.log10(a) for a in g2]\n",
    "                \n",
    "                \n",
    "                \n",
    "                if ng1 > 1 or ng2 > 1:\n",
    "                    t,p = ttest_ind(g1,g2,equal_var=True)\n",
    "                    n_tests += 1\n",
    "                else:\n",
    "                    p = 999\n",
    "                    \n",
    "                b_count = 0\n",
    "                for n in blank_files:\n",
    "                    peak = filter(lambda x: x[2] == n,ps.peaks)\n",
    "                    if len(peak) > 0:\n",
    "                        b_count += 1\n",
    "                \n",
    "                row.append(b_count)\n",
    "                \n",
    "                row.append(p)\n",
    "                res.append(row)\n",
    "            \n",
    "            res = sorted(res,key = lambda x: x[-1])\n",
    "            # compute q-value\n",
    "            for i,r in enumerate(res):\n",
    "                if r[-1] < 999:\n",
    "                    q = r[-1]*n_tests / (1.0*(i+1))\n",
    "                    r.append(q)\n",
    "                else:\n",
    "                    r.append(\"nan\")\n",
    "                    \n",
    "            \n",
    "\n",
    "            with open(\"spreadsheets/paper_v_paper_raw/paper_v_paper_raw_{}_{}_{}.csv\".format(options['log'],options['missing'],options['normalise']),'w') as f:\n",
    "                writer = csv.writer(f)\n",
    "                writer.writerow(heads)\n",
    "                fres = filter(lambda x: x[-1]<=0.05,res)\n",
    "                for r in fres:\n",
    "                    writer.writerow(r)"
   ]
  },
  {
   "cell_type": "code",
   "execution_count": 14,
   "metadata": {},
   "outputs": [
    {
     "name": "stdout",
     "output_type": "stream",
     "text": [
      "13\n"
     ]
    }
   ],
   "source": [
    "print len(blank_files)"
   ]
  },
  {
   "cell_type": "code",
   "execution_count": null,
   "metadata": {
    "collapsed": true
   },
   "outputs": [],
   "source": []
  }
 ],
 "metadata": {
  "kernelspec": {
   "display_name": "Python 2",
   "language": "python",
   "name": "python2"
  },
  "language_info": {
   "codemirror_mode": {
    "name": "ipython",
    "version": 2
   },
   "file_extension": ".py",
   "mimetype": "text/x-python",
   "name": "python",
   "nbconvert_exporter": "python",
   "pygments_lexer": "ipython2",
   "version": "2.7.10"
  }
 },
 "nbformat": 4,
 "nbformat_minor": 2
}
