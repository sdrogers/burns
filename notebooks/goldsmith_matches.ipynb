{
 "cells": [
  {
   "cell_type": "markdown",
   "metadata": {},
   "source": [
    "# Looks for Goldsmith peaks in the other analyses"
   ]
  },
  {
   "cell_type": "code",
   "execution_count": 1,
   "metadata": {
    "collapsed": true
   },
   "outputs": [],
   "source": [
    "files = {}\n",
    "files['ink'] = 'spreadsheets/ink_v_ink/ink_v_ink_log_1e-05_tus.csv'\n",
    "files['paper'] = 'spreadsheets/paper_v_paper/paper_v_paper_log_1e-05_tus.csv'\n",
    "files['both'] = 'spreadsheets/both_v_both/both_v_both_log_1e-05_tus.csv'"
   ]
  },
  {
   "cell_type": "code",
   "execution_count": 2,
   "metadata": {
    "collapsed": true
   },
   "outputs": [],
   "source": [
    "import csv\n",
    "masses = {}\n",
    "for ids,filename in files.items():\n",
    "    masses[ids] = []\n",
    "    with open(filename,'r') as f:\n",
    "        reader = csv.reader(f)\n",
    "        heads = reader.next()\n",
    "        for line in reader:\n",
    "            q = float(line[-1])\n",
    "            if q<=0.05:\n",
    "                masses[ids].append(line[0])"
   ]
  },
  {
   "cell_type": "code",
   "execution_count": 8,
   "metadata": {},
   "outputs": [],
   "source": [
    "goldsmith_file = 'spreadsheets/goldsmith/goldsmith_log_1e-05_tus.csv'\n",
    "goldsmith_data = {}\n",
    "with open(goldsmith_file,'r') as f:\n",
    "    reader = csv.reader(f)\n",
    "    gheads = reader.next()\n",
    "    for line in reader:\n",
    "        goldsmith_data[line[0]] = line"
   ]
  },
  {
   "cell_type": "markdown",
   "metadata": {},
   "source": [
    "re-write the other files with goldsmith data appended where there is a match (just q<0.05 peaks)"
   ]
  },
  {
   "cell_type": "code",
   "execution_count": 20,
   "metadata": {},
   "outputs": [],
   "source": [
    "res = {}\n",
    "for fname in files:\n",
    "    res[fname] = []\n",
    "    with open(files[fname],'r') as f:\n",
    "        reader = csv.reader(f)\n",
    "        heads = reader.next()\n",
    "        heads += gheads\n",
    "        res[fname].append(heads)\n",
    "        for line in reader:\n",
    "            q = float(line[-1])\n",
    "            if q<= 0.05:\n",
    "                # try and find a goldsmith mz\n",
    "                mz = float(line[0])\n",
    "                best = None\n",
    "                ee = 100\n",
    "                for gmz in goldsmith_data.keys():\n",
    "                    gmzf = float(gmz)\n",
    "                    ppme = 1e6*abs(mz-gmzf)/mz\n",
    "                    if ppme < ee:\n",
    "                        best = gmz\n",
    "                        ee = ppme\n",
    "                if ee < 5:\n",
    "                    line += goldsmith_data[best]\n",
    "                    res[fname].append(line)"
   ]
  },
  {
   "cell_type": "code",
   "execution_count": 24,
   "metadata": {},
   "outputs": [],
   "source": [
    "for fname in res:\n",
    "    newfname = 'spreadsheets/goldsmith/{}_matches.csv'.format(fname)\n",
    "    with open(newfname,'w') as f:\n",
    "        writer = csv.writer(f)\n",
    "        for line in res[fname]:\n",
    "            writer.writerow(line)"
   ]
  },
  {
   "cell_type": "code",
   "execution_count": null,
   "metadata": {
    "collapsed": true
   },
   "outputs": [],
   "source": []
  }
 ],
 "metadata": {
  "kernelspec": {
   "display_name": "Python 2",
   "language": "python",
   "name": "python2"
  },
  "language_info": {
   "codemirror_mode": {
    "name": "ipython",
    "version": 2
   },
   "file_extension": ".py",
   "mimetype": "text/x-python",
   "name": "python",
   "nbconvert_exporter": "python",
   "pygments_lexer": "ipython2",
   "version": "2.7.13"
  }
 },
 "nbformat": 4,
 "nbformat_minor": 2
}
